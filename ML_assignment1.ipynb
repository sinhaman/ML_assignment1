{
 "cells": [
  {
   "cell_type": "markdown",
   "id": "cdfaf636",
   "metadata": {},
   "source": [
    "1. What is a parameter?\n",
    "A parameter is a variable internal to a machine learning model that the model learns from the training data (e.g., weights in linear regression or neural networks)."
   ]
  },
  {
   "cell_type": "markdown",
   "id": "946ed78c",
   "metadata": {},
   "source": [
    "2. What is correlation?\n",
    "Correlation measures the statistical relationship or association between two variables. It ranges from -1 (perfect negative) to +1 (perfect positive)."
   ]
  },
  {
   "cell_type": "markdown",
   "id": "f8349e61",
   "metadata": {},
   "source": [
    "3. What does negative correlation mean?\n",
    "It means as one variable increases, the other decreases. Example: More exercise is negatively correlated with body fat."
   ]
  },
  {
   "cell_type": "markdown",
   "id": "bbc54512",
   "metadata": {},
   "source": [
    " 4. Define Machine Learning. What are the main components in ML?\n",
    "Machine Learning is the study of algorithms that learn from data to make predictions or decisions.\n",
    "\n",
    "Main components:\n",
    "\n",
    "Dataset\n",
    "\n",
    "Model\n",
    "\n",
    "Loss function\n",
    "\n",
    "Optimizer\n",
    "\n",
    "Training process"
   ]
  },
  {
   "cell_type": "markdown",
   "metadata": {},
   "source": [
    "5. How does loss value help determine if a model is good?\n",
    "Loss value quantifies the error between predicted and actual output. A lower loss usually means better model performance.   "
   ]
  },
  {
   "cell_type": "markdown",
   "id": "26d8fa5e",
   "metadata": {},
   "source": [
    "6. What are continuous and categorical variables?\n",
    "Continuous: Numeric values (e.g., height, temperature).\n",
    "\n",
    "Categorical: Non-numeric, label-based (e.g., gender, color)."
   ]
  },
  {
   "cell_type": "markdown",
   "id": "8b1de338",
   "metadata": {},
   "source": [
    "7. How do we handle categorical variables in ML? Common techniques?\n",
    "Label Encoding: Converts labels to numbers.\n",
    "\n",
    "One-Hot Encoding: Converts categories into binary vectors."
   ]
  },
  {
   "cell_type": "markdown",
   "id": "c193fc07",
   "metadata": {},
   "source": [
    "8. What is training and testing a dataset?\n",
    "Training: Fitting the model using known data.\n",
    "\n",
    "Testing: Evaluating the model on unseen data to assess performance.\n",
    "\n"
   ]
  },
  {
   "cell_type": "markdown",
   "id": "2cb20d92",
   "metadata": {},
   "source": [
    " 9. What is sklearn.preprocessing?\n",
    "A module in Scikit-learn that provides tools to preprocess data like encoding, scaling, and normalizing.\n",
    "\n"
   ]
  },
  {
   "cell_type": "markdown",
   "id": "92a4b217",
   "metadata": {},
   "source": [
    "10. What is a Test set?\n",
    "A test set is a portion of the dataset used to evaluate the performance of the trained model."
   ]
  },
  {
   "cell_type": "markdown",
   "id": "603abac1",
   "metadata": {},
   "source": [
    "11. How do we split data for training/testing in Python?\n",
    "Using train_test_split from sklearn.model_selection:\n",
    "\n",
    "\n",
    "from sklearn.model_selection import train_test_split\n",
    "X_train, X_test, y_train, y_test = train_test_split(X, y, test_size=0.2, random_state=42)\n"
   ]
  },
  {
   "cell_type": "markdown",
   "id": "06313cdd",
   "metadata": {},
   "source": [
    "12. How do you approach a Machine Learning problem?\n",
    "Understand the problem\n",
    "\n",
    "Gather and clean data\n",
    "\n",
    "Perform EDA\n",
    "\n",
    "Preprocess data\n",
    "\n",
    "Choose a model\n",
    "\n",
    "Train and validate\n",
    "\n",
    "Evaluate and optimize\n",
    "\n",
    "Deploy\n",
    "\n"
   ]
  },
  {
   "cell_type": "markdown",
   "id": "0eec94e9",
   "metadata": {},
   "source": [
    "13. Why perform EDA before fitting a model?\n",
    "EDA (Exploratory Data Analysis) helps understand data patterns, detect outliers, and decide preprocessing steps.\n",
    "\n"
   ]
  },
  {
   "cell_type": "markdown",
   "id": "9c020d2b",
   "metadata": {},
   "source": [
    "14. How can you find correlation between variables in Python?\n",
    "Using .corr():\n",
    "\n",
    "\n",
    "df.corr()"
   ]
  },
  {
   "cell_type": "markdown",
   "id": "448714f1",
   "metadata": {},
   "source": [
    "15. What is causation? Difference between correlation and causation?\n",
    "Causation: One variable directly affects another.\n",
    "\n",
    "Correlation: They move together but may not be causal.\n",
    "\n",
    "Example: Ice cream sales and drowning are correlated (hot weather) but one doesn’t cause the other.\n",
    "\n"
   ]
  },
  {
   "cell_type": "markdown",
   "id": "59bd5e17",
   "metadata": {},
   "source": [
    "16. What is an Optimizer? Types?\n",
    "Optimizer updates model parameters to minimize loss.\n",
    "\n",
    "Types:\n",
    "\n",
    "SGD (Stochastic Gradient Descent)\n",
    "\n",
    "Adam (Adaptive Moment Estimation)\n",
    "\n",
    "RMSprop\n",
    "\n",
    "Example (Keras):\n",
    "\n",
    "\n",
    "model.compile(optimizer='adam', loss='mse')"
   ]
  },
  {
   "cell_type": "markdown",
   "id": "0fc1b44b",
   "metadata": {},
   "source": [
    "17. What is sklearn.linear_model?\n",
    "A module in Scikit-learn for linear models like:\n",
    "\n",
    "LinearRegression()\n",
    "\n",
    "LogisticRegression()\n",
    "\n"
   ]
  },
  {
   "cell_type": "markdown",
   "id": "6c3dbd73",
   "metadata": {},
   "source": [
    " 18. What does model.fit() do? Required arguments?\n",
    "Trains the model on training data.\n",
    "\n",
    "\n",
    "model.fit(X_train, y_train)"
   ]
  },
  {
   "cell_type": "markdown",
   "id": "6ecfda3a",
   "metadata": {},
   "source": [
    "19. What does model.predict() do? Required arguments?\n",
    "Predicts outcomes for input data.\n",
    "\n",
    "\n",
    "predictions = model.predict(X_test)\n"
   ]
  },
  {
   "cell_type": "markdown",
   "id": "1dd86296",
   "metadata": {},
   "source": [
    "20. What is feature scaling? How does it help?\n",
    "Feature scaling standardizes the range of features. It helps models converge faster and perform better, especially distance-based models."
   ]
  },
  {
   "cell_type": "markdown",
   "id": "19eaf94b",
   "metadata": {},
   "source": [
    " 21. How do we perform scaling in Python?\n",
    "Using StandardScaler or MinMaxScaler:\n",
    "\n",
    "\n",
    "from sklearn.preprocessing import StandardScaler\n",
    "scaler = StandardScaler()\n",
    "X_scaled = scaler.fit_transform(X)"
   ]
  }
 ],
 "metadata": {
  "language_info": {
   "name": "python"
  }
 },
 "nbformat": 4,
 "nbformat_minor": 5
}
